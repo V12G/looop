{
 "cells": [
  {
   "cell_type": "code",
   "execution_count": 8,
   "id": "5ead6865",
   "metadata": {},
   "outputs": [
    {
     "name": "stdout",
     "output_type": "stream",
     "text": [
      "Enter a number:3\n",
      "Sum is: 6\n"
     ]
    }
   ],
   "source": [
    "# Write a python script to calculate sum of first N natural numbers.\n",
    "N=int(input(\"Enter a number:\"))\n",
    "n=1\n",
    "sum=0\n",
    "while n<=N:\n",
    "    sum+=n\n",
    "    n+=1\n",
    "print(\"Sum is:\",sum)"
   ]
  },
  {
   "cell_type": "code",
   "execution_count": 10,
   "id": "318a638e",
   "metadata": {},
   "outputs": [
    {
     "name": "stdout",
     "output_type": "stream",
     "text": [
      "Enter a number:3\n",
      "Sum is: 36\n"
     ]
    }
   ],
   "source": [
    "# Write a python script to calculate sum of squares of first N natural numbers.\n",
    "N=int(input(\"Enter a number:\"))\n",
    "n=1\n",
    "sum=0\n",
    "while n<=N:\n",
    "    sum+=n\n",
    "    n+=1\n",
    "print(\"Sum is:\",sum**2)"
   ]
  },
  {
   "cell_type": "code",
   "execution_count": 11,
   "id": "8ee7758a",
   "metadata": {},
   "outputs": [
    {
     "name": "stdout",
     "output_type": "stream",
     "text": [
      "Enter a number:3\n",
      "Sum is: 216\n"
     ]
    }
   ],
   "source": [
    "# Write a python script to calculate sum of cubes of first N natural numbers.\n",
    "N=int(input(\"Enter a number:\"))\n",
    "n=1\n",
    "sum=0\n",
    "while n<=N:\n",
    "    sum+=n\n",
    "    n+=1\n",
    "print(\"Sum is:\",sum**3)"
   ]
  },
  {
   "cell_type": "code",
   "execution_count": 16,
   "id": "f8e05e2b",
   "metadata": {},
   "outputs": [
    {
     "name": "stdout",
     "output_type": "stream",
     "text": [
      "Enter a number:5\n",
      "Sum of odd number is: 9\n"
     ]
    }
   ],
   "source": [
    "# Write a python script to calculate sum of first N odd natural numbers.\n",
    "N=int(input(\"Enter a number:\"))\n",
    "n=1\n",
    "sum=0\n",
    "while n<=N:\n",
    "    sum+=n\n",
    "    n+=2\n",
    "print(\"Sum of odd number is:\",sum)"
   ]
  },
  {
   "cell_type": "code",
   "execution_count": 17,
   "id": "b8469dae",
   "metadata": {},
   "outputs": [
    {
     "name": "stdout",
     "output_type": "stream",
     "text": [
      "Enter a number:5\n",
      "Sum of even number is: 6\n"
     ]
    }
   ],
   "source": [
    "# Write a python script to calculate sum of first N even natural numbers.\n",
    "N=int(input(\"Enter a number:\"))\n",
    "n=2\n",
    "sum=0\n",
    "while n<=N:\n",
    "    sum+=n\n",
    "    n+=2\n",
    "print(\"Sum of even number is:\",sum)"
   ]
  },
  {
   "cell_type": "code",
   "execution_count": 23,
   "id": "f5f98e5d",
   "metadata": {},
   "outputs": [
    {
     "name": "stdout",
     "output_type": "stream",
     "text": [
      "Enter a number:8\n",
      "Factorial of  8 is 40320\n"
     ]
    }
   ],
   "source": [
    "# Write a python script to calculate factorial of a given number.\n",
    "n=int(input(\"Enter a number:\"))\n",
    "result=1\n",
    "for x in range(n,0,-1):\n",
    "    result=result*x\n",
    "print(\"Factorial of \",n,\"is\",result)\n",
    "    "
   ]
  },
  {
   "cell_type": "code",
   "execution_count": 24,
   "id": "001e4035",
   "metadata": {},
   "outputs": [
    {
     "name": "stdout",
     "output_type": "stream",
     "text": [
      "Enter a number:123\n",
      "Count of digit is: 3\n"
     ]
    }
   ],
   "source": [
    "# Write a python script to count digits in a given number.\n",
    "n=int(input(\"Enter a number:\"))\n",
    "count=0\n",
    "while n>0:\n",
    "    n=n//10\n",
    "    count+=1\n",
    "print(\"Count of digit is:\",count)\n"
   ]
  },
  {
   "cell_type": "code",
   "execution_count": 3,
   "id": "c7803fdf",
   "metadata": {},
   "outputs": [
    {
     "name": "stdout",
     "output_type": "stream",
     "text": [
      "Enter a number:234\n",
      "Sum of digit is: 9\n"
     ]
    }
   ],
   "source": [
    "# Write a python script to calculate sum of digits of a given number.\n",
    "n=int(input(\"Enter a number:\"))\n",
    "sum=0\n",
    "while n>0:\n",
    "    sum=sum+n%10   # here it will give remainder of the given value.\n",
    "    n=n//10        #Here it will discard the float value and give the integar value.\n",
    "    \n",
    "print(\"Sum of digit is:\",sum)\n"
   ]
  },
  {
   "cell_type": "code",
   "execution_count": 10,
   "id": "fb3e6bca",
   "metadata": {},
   "outputs": [
    {
     "name": "stdout",
     "output_type": "stream",
     "text": [
      "Enter a decimal number:234\n",
      "11101010"
     ]
    }
   ],
   "source": [
    "'''Write a python script to print binary equivalent of a given decimal number. (do not\n",
    "use bin() method).'''\n",
    "n=int(input(\"Enter a decimal number:\"))\n",
    "binary=[]\n",
    "count=0\n",
    "while n>=0:\n",
    "    binary.append(n%2)\n",
    "    n=n//2\n",
    "    if n==0:\n",
    "        break\n",
    "binary.reverse()\n",
    "for e in binary:\n",
    "    print(e,end='')"
   ]
  },
  {
   "cell_type": "code",
   "execution_count": 11,
   "id": "903938e8",
   "metadata": {},
   "outputs": [
    {
     "name": "stdout",
     "output_type": "stream",
     "text": [
      "Enter a decimal number:56\n",
      "70"
     ]
    }
   ],
   "source": [
    "'''Write a python script to print the octal equivalent of a given decimal number. (do not\n",
    "use oct() method).'''\n",
    "n=int(input(\"Enter a decimal number:\"))\n",
    "octal=[]\n",
    "count=0\n",
    "while n>=0:\n",
    "    octal.append(n%8)\n",
    "    n=n//8\n",
    "    if n==0:\n",
    "        break\n",
    "octal.reverse()\n",
    "for kavita in octal:\n",
    "    print(kavita,end='')"
   ]
  },
  {
   "cell_type": "code",
   "execution_count": null,
   "id": "bfea27aa",
   "metadata": {},
   "outputs": [],
   "source": []
  }
 ],
 "metadata": {
  "kernelspec": {
   "display_name": "Python 3 (ipykernel)",
   "language": "python",
   "name": "python3"
  },
  "language_info": {
   "codemirror_mode": {
    "name": "ipython",
    "version": 3
   },
   "file_extension": ".py",
   "mimetype": "text/x-python",
   "name": "python",
   "nbconvert_exporter": "python",
   "pygments_lexer": "ipython3",
   "version": "3.9.7"
  }
 },
 "nbformat": 4,
 "nbformat_minor": 5
}
